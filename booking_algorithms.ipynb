{
 "cells": [
  {
   "cell_type": "markdown",
   "id": "6b980eef",
   "metadata": {},
   "source": [
    "### Importamos todos los paquetes a usar y cargamos los datos preprocesados"
   ]
  },
  {
   "cell_type": "code",
   "execution_count": 3,
   "id": "b5fa760e",
   "metadata": {},
   "outputs": [
    {
     "name": "stdout",
     "output_type": "stream",
     "text": [
      "<class 'pandas.core.frame.DataFrame'>\n",
      "RangeIndex: 119390 entries, 0 to 119389\n",
      "Data columns (total 31 columns):\n",
      " #   Column                          Non-Null Count   Dtype  \n",
      "---  ------                          --------------   -----  \n",
      " 0   hotel                           119390 non-null  int64  \n",
      " 1   is_canceled                     119390 non-null  float64\n",
      " 2   lead_time                       119390 non-null  float64\n",
      " 3   arrival_date_year               119390 non-null  int64  \n",
      " 4   arrival_date_month              119390 non-null  int64  \n",
      " 5   arrival_date_week_number        119390 non-null  int64  \n",
      " 6   arrival_date_day_of_month       119390 non-null  int64  \n",
      " 7   stays_in_weekend_nights         119390 non-null  float64\n",
      " 8   stays_in_week_nights            119390 non-null  float64\n",
      " 9   adults                          119390 non-null  float64\n",
      " 10  children                        119386 non-null  float64\n",
      " 11  babies                          119390 non-null  float64\n",
      " 12  meal                            119390 non-null  int64  \n",
      " 13  country                         119390 non-null  int64  \n",
      " 14  market_segment                  119390 non-null  int64  \n",
      " 15  distribution_channel            119390 non-null  int64  \n",
      " 16  is_repeated_guest               119390 non-null  int64  \n",
      " 17  previous_cancellations          119390 non-null  float64\n",
      " 18  previous_bookings_not_canceled  119390 non-null  float64\n",
      " 19  reserved_room_type              119390 non-null  int64  \n",
      " 20  assigned_room_type              119390 non-null  int64  \n",
      " 21  booking_changes                 119390 non-null  float64\n",
      " 22  deposit_type                    119390 non-null  int64  \n",
      " 23  agent                           119390 non-null  float64\n",
      " 24  days_in_waiting_list            119390 non-null  float64\n",
      " 25  customer_type                   119390 non-null  int64  \n",
      " 26  adr                             119390 non-null  float64\n",
      " 27  required_car_parking_spaces     119390 non-null  float64\n",
      " 28  total_of_special_requests       119390 non-null  float64\n",
      " 29  reservation_status              119390 non-null  int64  \n",
      " 30  reservation_status_date         119390 non-null  float64\n",
      "dtypes: float64(16), int64(15)\n",
      "memory usage: 28.2 MB\n"
     ]
    }
   ],
   "source": [
    "import pandas as pd\n",
    "from sklearn.model_selection import train_test_split\n",
    "from sklearn.linear_model import LogisticRegression\n",
    "from sklearn.metrics import accuracy_score, mean_absolute_error, confusion_matrix, classification_report\n",
    "\n",
    "from sklearn.linear_model import LinearRegression\n",
    "from sklearn.metrics import mean_squared_error, r2_score\n",
    "import numpy as np\n",
    "\n",
    "df = pd.read_csv('./data/booking_preprocessed.csv')\n",
    "\n",
    "# observamos\n",
    "df.info()"
   ]
  },
  {
   "cell_type": "markdown",
   "id": "f97fc444",
   "metadata": {},
   "source": [
    "### Cargamos solo las columnas que usaremos en la clasificacion"
   ]
  },
  {
   "cell_type": "code",
   "execution_count": 4,
   "id": "dfda0999",
   "metadata": {},
   "outputs": [
    {
     "data": {
      "text/html": [
       "<div>\n",
       "<style scoped>\n",
       "    .dataframe tbody tr th:only-of-type {\n",
       "        vertical-align: middle;\n",
       "    }\n",
       "\n",
       "    .dataframe tbody tr th {\n",
       "        vertical-align: top;\n",
       "    }\n",
       "\n",
       "    .dataframe thead th {\n",
       "        text-align: right;\n",
       "    }\n",
       "</style>\n",
       "<table border=\"1\" class=\"dataframe\">\n",
       "  <thead>\n",
       "    <tr style=\"text-align: right;\">\n",
       "      <th></th>\n",
       "      <th>hotel</th>\n",
       "      <th>lead_time</th>\n",
       "      <th>arrival_date_month</th>\n",
       "      <th>arrival_date_day_of_month</th>\n",
       "      <th>stays_in_weekend_nights</th>\n",
       "      <th>stays_in_week_nights</th>\n",
       "      <th>adults</th>\n",
       "      <th>children</th>\n",
       "      <th>babies</th>\n",
       "      <th>distribution_channel</th>\n",
       "      <th>is_repeated_guest</th>\n",
       "      <th>previous_cancellations</th>\n",
       "      <th>reserved_room_type</th>\n",
       "      <th>booking_changes</th>\n",
       "      <th>deposit_type</th>\n",
       "      <th>days_in_waiting_list</th>\n",
       "    </tr>\n",
       "  </thead>\n",
       "  <tbody>\n",
       "    <tr>\n",
       "      <th>0</th>\n",
       "      <td>1</td>\n",
       "      <td>2.227042</td>\n",
       "      <td>5</td>\n",
       "      <td>1</td>\n",
       "      <td>-0.928887</td>\n",
       "      <td>-1.310234</td>\n",
       "      <td>0.247896</td>\n",
       "      <td>-0.260662</td>\n",
       "      <td>-0.081579</td>\n",
       "      <td>1</td>\n",
       "      <td>0</td>\n",
       "      <td>-0.103179</td>\n",
       "      <td>2</td>\n",
       "      <td>4.260083</td>\n",
       "      <td>0</td>\n",
       "      <td>-0.131923</td>\n",
       "    </tr>\n",
       "    <tr>\n",
       "      <th>1</th>\n",
       "      <td>1</td>\n",
       "      <td>5.923360</td>\n",
       "      <td>5</td>\n",
       "      <td>1</td>\n",
       "      <td>-0.928887</td>\n",
       "      <td>-1.310234</td>\n",
       "      <td>0.247896</td>\n",
       "      <td>-0.260662</td>\n",
       "      <td>-0.081579</td>\n",
       "      <td>1</td>\n",
       "      <td>0</td>\n",
       "      <td>-0.103179</td>\n",
       "      <td>2</td>\n",
       "      <td>5.793107</td>\n",
       "      <td>0</td>\n",
       "      <td>-0.131923</td>\n",
       "    </tr>\n",
       "    <tr>\n",
       "      <th>2</th>\n",
       "      <td>1</td>\n",
       "      <td>-0.907810</td>\n",
       "      <td>5</td>\n",
       "      <td>1</td>\n",
       "      <td>-0.928887</td>\n",
       "      <td>-0.786204</td>\n",
       "      <td>-1.478441</td>\n",
       "      <td>-0.260662</td>\n",
       "      <td>-0.081579</td>\n",
       "      <td>1</td>\n",
       "      <td>0</td>\n",
       "      <td>-0.103179</td>\n",
       "      <td>0</td>\n",
       "      <td>-0.338988</td>\n",
       "      <td>0</td>\n",
       "      <td>-0.131923</td>\n",
       "    </tr>\n",
       "    <tr>\n",
       "      <th>3</th>\n",
       "      <td>1</td>\n",
       "      <td>-0.851664</td>\n",
       "      <td>5</td>\n",
       "      <td>1</td>\n",
       "      <td>-0.928887</td>\n",
       "      <td>-0.786204</td>\n",
       "      <td>-1.478441</td>\n",
       "      <td>-0.260662</td>\n",
       "      <td>-0.081579</td>\n",
       "      <td>0</td>\n",
       "      <td>0</td>\n",
       "      <td>-0.103179</td>\n",
       "      <td>0</td>\n",
       "      <td>-0.338988</td>\n",
       "      <td>0</td>\n",
       "      <td>-0.131923</td>\n",
       "    </tr>\n",
       "    <tr>\n",
       "      <th>4</th>\n",
       "      <td>1</td>\n",
       "      <td>-0.842306</td>\n",
       "      <td>5</td>\n",
       "      <td>1</td>\n",
       "      <td>-0.928887</td>\n",
       "      <td>-0.262173</td>\n",
       "      <td>0.247896</td>\n",
       "      <td>-0.260662</td>\n",
       "      <td>-0.081579</td>\n",
       "      <td>3</td>\n",
       "      <td>0</td>\n",
       "      <td>-0.103179</td>\n",
       "      <td>0</td>\n",
       "      <td>-0.338988</td>\n",
       "      <td>0</td>\n",
       "      <td>-0.131923</td>\n",
       "    </tr>\n",
       "  </tbody>\n",
       "</table>\n",
       "</div>"
      ],
      "text/plain": [
       "   hotel  lead_time  arrival_date_month  arrival_date_day_of_month   \n",
       "0      1   2.227042                   5                          1  \\\n",
       "1      1   5.923360                   5                          1   \n",
       "2      1  -0.907810                   5                          1   \n",
       "3      1  -0.851664                   5                          1   \n",
       "4      1  -0.842306                   5                          1   \n",
       "\n",
       "   stays_in_weekend_nights  stays_in_week_nights    adults  children   \n",
       "0                -0.928887             -1.310234  0.247896 -0.260662  \\\n",
       "1                -0.928887             -1.310234  0.247896 -0.260662   \n",
       "2                -0.928887             -0.786204 -1.478441 -0.260662   \n",
       "3                -0.928887             -0.786204 -1.478441 -0.260662   \n",
       "4                -0.928887             -0.262173  0.247896 -0.260662   \n",
       "\n",
       "     babies  distribution_channel  is_repeated_guest  previous_cancellations   \n",
       "0 -0.081579                     1                  0               -0.103179  \\\n",
       "1 -0.081579                     1                  0               -0.103179   \n",
       "2 -0.081579                     1                  0               -0.103179   \n",
       "3 -0.081579                     0                  0               -0.103179   \n",
       "4 -0.081579                     3                  0               -0.103179   \n",
       "\n",
       "   reserved_room_type  booking_changes  deposit_type  days_in_waiting_list  \n",
       "0                   2         4.260083             0             -0.131923  \n",
       "1                   2         5.793107             0             -0.131923  \n",
       "2                   0        -0.338988             0             -0.131923  \n",
       "3                   0        -0.338988             0             -0.131923  \n",
       "4                   0        -0.338988             0             -0.131923  "
      ]
     },
     "execution_count": 4,
     "metadata": {},
     "output_type": "execute_result"
    }
   ],
   "source": [
    "# queremos predecir is_canceled. Entonces vamos a particionar la data para entrenamiento y medir la precision\n",
    "\n",
    "X = df[[\n",
    "    'hotel', \n",
    "    'lead_time', \n",
    "    'arrival_date_month', \n",
    "    'arrival_date_day_of_month',\n",
    "    'stays_in_weekend_nights',\n",
    "    'stays_in_week_nights',\n",
    "    'adults',\n",
    "    'children',\n",
    "    'babies',\n",
    "    'distribution_channel',\n",
    "    'is_repeated_guest',\n",
    "    'previous_cancellations',\n",
    "    'reserved_room_type',\n",
    "    'booking_changes',\n",
    "    'deposit_type',\n",
    "    'days_in_waiting_list',\n",
    "]].copy()\n",
    "y = df['is_canceled'].astype(int)\n",
    "\n",
    "X.fillna(X.mean(), inplace=True)\n",
    "X.head()"
   ]
  },
  {
   "cell_type": "markdown",
   "id": "c7c9af0e",
   "metadata": {},
   "source": [
    "### Separamos la data en 20% para testing y 80% para entrenamiento"
   ]
  },
  {
   "cell_type": "code",
   "execution_count": 5,
   "id": "9cabb922",
   "metadata": {},
   "outputs": [],
   "source": [
    "# separar la data en seccion de entrenamiento y de testing\n",
    "\n",
    "X_train, X_test, y_train, y_test = train_test_split(X, y, test_size=0.2, random_state=42)\n"
   ]
  },
  {
   "cell_type": "code",
   "execution_count": 6,
   "id": "461da5fd",
   "metadata": {},
   "outputs": [
    {
     "data": {
      "text/html": [
       "<style>#sk-container-id-1 {color: black;background-color: white;}#sk-container-id-1 pre{padding: 0;}#sk-container-id-1 div.sk-toggleable {background-color: white;}#sk-container-id-1 label.sk-toggleable__label {cursor: pointer;display: block;width: 100%;margin-bottom: 0;padding: 0.3em;box-sizing: border-box;text-align: center;}#sk-container-id-1 label.sk-toggleable__label-arrow:before {content: \"▸\";float: left;margin-right: 0.25em;color: #696969;}#sk-container-id-1 label.sk-toggleable__label-arrow:hover:before {color: black;}#sk-container-id-1 div.sk-estimator:hover label.sk-toggleable__label-arrow:before {color: black;}#sk-container-id-1 div.sk-toggleable__content {max-height: 0;max-width: 0;overflow: hidden;text-align: left;background-color: #f0f8ff;}#sk-container-id-1 div.sk-toggleable__content pre {margin: 0.2em;color: black;border-radius: 0.25em;background-color: #f0f8ff;}#sk-container-id-1 input.sk-toggleable__control:checked~div.sk-toggleable__content {max-height: 200px;max-width: 100%;overflow: auto;}#sk-container-id-1 input.sk-toggleable__control:checked~label.sk-toggleable__label-arrow:before {content: \"▾\";}#sk-container-id-1 div.sk-estimator input.sk-toggleable__control:checked~label.sk-toggleable__label {background-color: #d4ebff;}#sk-container-id-1 div.sk-label input.sk-toggleable__control:checked~label.sk-toggleable__label {background-color: #d4ebff;}#sk-container-id-1 input.sk-hidden--visually {border: 0;clip: rect(1px 1px 1px 1px);clip: rect(1px, 1px, 1px, 1px);height: 1px;margin: -1px;overflow: hidden;padding: 0;position: absolute;width: 1px;}#sk-container-id-1 div.sk-estimator {font-family: monospace;background-color: #f0f8ff;border: 1px dotted black;border-radius: 0.25em;box-sizing: border-box;margin-bottom: 0.5em;}#sk-container-id-1 div.sk-estimator:hover {background-color: #d4ebff;}#sk-container-id-1 div.sk-parallel-item::after {content: \"\";width: 100%;border-bottom: 1px solid gray;flex-grow: 1;}#sk-container-id-1 div.sk-label:hover label.sk-toggleable__label {background-color: #d4ebff;}#sk-container-id-1 div.sk-serial::before {content: \"\";position: absolute;border-left: 1px solid gray;box-sizing: border-box;top: 0;bottom: 0;left: 50%;z-index: 0;}#sk-container-id-1 div.sk-serial {display: flex;flex-direction: column;align-items: center;background-color: white;padding-right: 0.2em;padding-left: 0.2em;position: relative;}#sk-container-id-1 div.sk-item {position: relative;z-index: 1;}#sk-container-id-1 div.sk-parallel {display: flex;align-items: stretch;justify-content: center;background-color: white;position: relative;}#sk-container-id-1 div.sk-item::before, #sk-container-id-1 div.sk-parallel-item::before {content: \"\";position: absolute;border-left: 1px solid gray;box-sizing: border-box;top: 0;bottom: 0;left: 50%;z-index: -1;}#sk-container-id-1 div.sk-parallel-item {display: flex;flex-direction: column;z-index: 1;position: relative;background-color: white;}#sk-container-id-1 div.sk-parallel-item:first-child::after {align-self: flex-end;width: 50%;}#sk-container-id-1 div.sk-parallel-item:last-child::after {align-self: flex-start;width: 50%;}#sk-container-id-1 div.sk-parallel-item:only-child::after {width: 0;}#sk-container-id-1 div.sk-dashed-wrapped {border: 1px dashed gray;margin: 0 0.4em 0.5em 0.4em;box-sizing: border-box;padding-bottom: 0.4em;background-color: white;}#sk-container-id-1 div.sk-label label {font-family: monospace;font-weight: bold;display: inline-block;line-height: 1.2em;}#sk-container-id-1 div.sk-label-container {text-align: center;}#sk-container-id-1 div.sk-container {/* jupyter's `normalize.less` sets `[hidden] { display: none; }` but bootstrap.min.css set `[hidden] { display: none !important; }` so we also need the `!important` here to be able to override the default hidden behavior on the sphinx rendered scikit-learn.org. See: https://github.com/scikit-learn/scikit-learn/issues/21755 */display: inline-block !important;position: relative;}#sk-container-id-1 div.sk-text-repr-fallback {display: none;}</style><div id=\"sk-container-id-1\" class=\"sk-top-container\"><div class=\"sk-text-repr-fallback\"><pre>LogisticRegression(max_iter=2000)</pre><b>In a Jupyter environment, please rerun this cell to show the HTML representation or trust the notebook. <br />On GitHub, the HTML representation is unable to render, please try loading this page with nbviewer.org.</b></div><div class=\"sk-container\" hidden><div class=\"sk-item\"><div class=\"sk-estimator sk-toggleable\"><input class=\"sk-toggleable__control sk-hidden--visually\" id=\"sk-estimator-id-1\" type=\"checkbox\" checked><label for=\"sk-estimator-id-1\" class=\"sk-toggleable__label sk-toggleable__label-arrow\">LogisticRegression</label><div class=\"sk-toggleable__content\"><pre>LogisticRegression(max_iter=2000)</pre></div></div></div></div></div>"
      ],
      "text/plain": [
       "LogisticRegression(max_iter=2000)"
      ]
     },
     "execution_count": 6,
     "metadata": {},
     "output_type": "execute_result"
    }
   ],
   "source": [
    "# regresion logistica\n",
    "\n",
    "model = LogisticRegression(max_iter=2000)\n",
    "model.fit(X_train, y_train)\n"
   ]
  },
  {
   "cell_type": "markdown",
   "id": "e7ae11ec",
   "metadata": {},
   "source": [
    "### Hacemos predicciones con el set de testing"
   ]
  },
  {
   "cell_type": "markdown",
   "id": "00df5c80",
   "metadata": {},
   "source": [
    "Con esto podemos obtener una puntuacion de precision. Ademas podemos obtener un reporte completo de la calidad del reporte de clasificacion."
   ]
  },
  {
   "cell_type": "markdown",
   "id": "ae75ded8",
   "metadata": {},
   "source": [
    "Con este reporte podemos cambiar parametros en el algoritmo y modificar las variables usadas para mejorar su eficacia."
   ]
  },
  {
   "cell_type": "code",
   "execution_count": 7,
   "id": "ed68704b",
   "metadata": {
    "scrolled": true
   },
   "outputs": [
    {
     "name": "stdout",
     "output_type": "stream",
     "text": [
      "Accuracy: 0.7643018678281263\n",
      "Classification Report:\n",
      "              precision    recall  f1-score   support\n",
      "\n",
      "           0       0.73      0.98      0.84     14907\n",
      "           1       0.92      0.41      0.56      8971\n",
      "\n",
      "    accuracy                           0.76     23878\n",
      "   macro avg       0.83      0.69      0.70     23878\n",
      "weighted avg       0.80      0.76      0.74     23878\n",
      "\n"
     ]
    }
   ],
   "source": [
    "# Making predictions\n",
    "predictions = model.predict(X_test)\n",
    "\n",
    "# Evaluating the model\n",
    "accuracy = accuracy_score(y_test, predictions)\n",
    "report = classification_report(y_test, predictions)\n",
    "\n",
    "print(f\"Accuracy: {accuracy}\")\n",
    "print(\"Classification Report:\")\n",
    "print(report)\n"
   ]
  },
  {
   "cell_type": "markdown",
   "id": "208ef315",
   "metadata": {},
   "source": [
    "### Ahora hagamos regresion tambien. Vamos a predecir la variable adr"
   ]
  },
  {
   "cell_type": "code",
   "execution_count": 9,
   "id": "68d41c5f",
   "metadata": {},
   "outputs": [],
   "source": [
    "X_r = df[[\n",
    "    'hotel', \n",
    "    'is_canceled', \n",
    "    'lead_time', \n",
    "    'arrival_date_month', \n",
    "    'arrival_date_day_of_month', \n",
    "    'stays_in_weekend_nights',\n",
    "    'stays_in_week_nights', \n",
    "    'adults', \n",
    "    'children', \n",
    "    'babies', \n",
    "    'meal',\n",
    "    'country', \n",
    "    'market_segment', \n",
    "    'distribution_channel',\n",
    "    'is_repeated_guest', \n",
    "    'previous_cancellations',\n",
    "    'previous_bookings_not_canceled', \n",
    "    'reserved_room_type',\n",
    "    'assigned_room_type', \n",
    "    'deposit_type', \n",
    "    'days_in_waiting_list', \n",
    "    'customer_type', \n",
    "    'required_car_parking_spaces', \n",
    "    'total_of_special_requests',\n",
    "    'reservation_status', \n",
    "]].copy()\n",
    "y_r = df['adr'].astype(int)\n",
    "\n",
    "X_r.fillna(X.mean(), inplace=True)\n",
    "X_r.head()\n",
    "\n",
    "X_train_r, X_test_r, y_train_r, y_test_r = train_test_split(X_r, y_r, test_size=0.2, random_state=42)"
   ]
  },
  {
   "cell_type": "code",
   "execution_count": 10,
   "id": "045ff135",
   "metadata": {},
   "outputs": [
    {
     "data": {
      "text/html": [
       "<style>#sk-container-id-2 {color: black;background-color: white;}#sk-container-id-2 pre{padding: 0;}#sk-container-id-2 div.sk-toggleable {background-color: white;}#sk-container-id-2 label.sk-toggleable__label {cursor: pointer;display: block;width: 100%;margin-bottom: 0;padding: 0.3em;box-sizing: border-box;text-align: center;}#sk-container-id-2 label.sk-toggleable__label-arrow:before {content: \"▸\";float: left;margin-right: 0.25em;color: #696969;}#sk-container-id-2 label.sk-toggleable__label-arrow:hover:before {color: black;}#sk-container-id-2 div.sk-estimator:hover label.sk-toggleable__label-arrow:before {color: black;}#sk-container-id-2 div.sk-toggleable__content {max-height: 0;max-width: 0;overflow: hidden;text-align: left;background-color: #f0f8ff;}#sk-container-id-2 div.sk-toggleable__content pre {margin: 0.2em;color: black;border-radius: 0.25em;background-color: #f0f8ff;}#sk-container-id-2 input.sk-toggleable__control:checked~div.sk-toggleable__content {max-height: 200px;max-width: 100%;overflow: auto;}#sk-container-id-2 input.sk-toggleable__control:checked~label.sk-toggleable__label-arrow:before {content: \"▾\";}#sk-container-id-2 div.sk-estimator input.sk-toggleable__control:checked~label.sk-toggleable__label {background-color: #d4ebff;}#sk-container-id-2 div.sk-label input.sk-toggleable__control:checked~label.sk-toggleable__label {background-color: #d4ebff;}#sk-container-id-2 input.sk-hidden--visually {border: 0;clip: rect(1px 1px 1px 1px);clip: rect(1px, 1px, 1px, 1px);height: 1px;margin: -1px;overflow: hidden;padding: 0;position: absolute;width: 1px;}#sk-container-id-2 div.sk-estimator {font-family: monospace;background-color: #f0f8ff;border: 1px dotted black;border-radius: 0.25em;box-sizing: border-box;margin-bottom: 0.5em;}#sk-container-id-2 div.sk-estimator:hover {background-color: #d4ebff;}#sk-container-id-2 div.sk-parallel-item::after {content: \"\";width: 100%;border-bottom: 1px solid gray;flex-grow: 1;}#sk-container-id-2 div.sk-label:hover label.sk-toggleable__label {background-color: #d4ebff;}#sk-container-id-2 div.sk-serial::before {content: \"\";position: absolute;border-left: 1px solid gray;box-sizing: border-box;top: 0;bottom: 0;left: 50%;z-index: 0;}#sk-container-id-2 div.sk-serial {display: flex;flex-direction: column;align-items: center;background-color: white;padding-right: 0.2em;padding-left: 0.2em;position: relative;}#sk-container-id-2 div.sk-item {position: relative;z-index: 1;}#sk-container-id-2 div.sk-parallel {display: flex;align-items: stretch;justify-content: center;background-color: white;position: relative;}#sk-container-id-2 div.sk-item::before, #sk-container-id-2 div.sk-parallel-item::before {content: \"\";position: absolute;border-left: 1px solid gray;box-sizing: border-box;top: 0;bottom: 0;left: 50%;z-index: -1;}#sk-container-id-2 div.sk-parallel-item {display: flex;flex-direction: column;z-index: 1;position: relative;background-color: white;}#sk-container-id-2 div.sk-parallel-item:first-child::after {align-self: flex-end;width: 50%;}#sk-container-id-2 div.sk-parallel-item:last-child::after {align-self: flex-start;width: 50%;}#sk-container-id-2 div.sk-parallel-item:only-child::after {width: 0;}#sk-container-id-2 div.sk-dashed-wrapped {border: 1px dashed gray;margin: 0 0.4em 0.5em 0.4em;box-sizing: border-box;padding-bottom: 0.4em;background-color: white;}#sk-container-id-2 div.sk-label label {font-family: monospace;font-weight: bold;display: inline-block;line-height: 1.2em;}#sk-container-id-2 div.sk-label-container {text-align: center;}#sk-container-id-2 div.sk-container {/* jupyter's `normalize.less` sets `[hidden] { display: none; }` but bootstrap.min.css set `[hidden] { display: none !important; }` so we also need the `!important` here to be able to override the default hidden behavior on the sphinx rendered scikit-learn.org. See: https://github.com/scikit-learn/scikit-learn/issues/21755 */display: inline-block !important;position: relative;}#sk-container-id-2 div.sk-text-repr-fallback {display: none;}</style><div id=\"sk-container-id-2\" class=\"sk-top-container\"><div class=\"sk-text-repr-fallback\"><pre>LinearRegression()</pre><b>In a Jupyter environment, please rerun this cell to show the HTML representation or trust the notebook. <br />On GitHub, the HTML representation is unable to render, please try loading this page with nbviewer.org.</b></div><div class=\"sk-container\" hidden><div class=\"sk-item\"><div class=\"sk-estimator sk-toggleable\"><input class=\"sk-toggleable__control sk-hidden--visually\" id=\"sk-estimator-id-2\" type=\"checkbox\" checked><label for=\"sk-estimator-id-2\" class=\"sk-toggleable__label sk-toggleable__label-arrow\">LinearRegression</label><div class=\"sk-toggleable__content\"><pre>LinearRegression()</pre></div></div></div></div></div>"
      ],
      "text/plain": [
       "LinearRegression()"
      ]
     },
     "execution_count": 10,
     "metadata": {},
     "output_type": "execute_result"
    }
   ],
   "source": [
    "# Inicializamos el modelo\n",
    "model = LinearRegression()\n",
    "\n",
    "# Entrenamos el modelo\n",
    "model.fit(X_train, y_train)\n"
   ]
  },
  {
   "cell_type": "code",
   "execution_count": 11,
   "id": "26d9dc2b",
   "metadata": {},
   "outputs": [
    {
     "name": "stdout",
     "output_type": "stream",
     "text": [
      "   Mean absolute error  Mean squared error      RMSE        R²\n",
      "0             0.347753            0.170694  0.413151  0.272248\n"
     ]
    }
   ],
   "source": [
    "\n",
    "# Making predictions\n",
    "predictions = model.predict(X_test)\n",
    "\n",
    "# Calculating metrics\n",
    "mae = mean_absolute_error(y_test, predictions)\n",
    "mse = mean_squared_error(y_test, predictions)\n",
    "rmse = np.sqrt(mse)\n",
    "r2 = r2_score(y_test, predictions)\n",
    "\n",
    "# Creating a DataFrame to display the metrics as a table\n",
    "metrics_df = pd.DataFrame({\n",
    "    \"Mean absolute error\": [mae],\n",
    "    \"Mean squared error\": [mse],\n",
    "    \"RMSE\": [rmse],\n",
    "    \"R²\": [r2]\n",
    "})\n",
    "\n",
    "# Displaying the table\n",
    "print(metrics_df)"
   ]
  },
  {
   "cell_type": "code",
   "execution_count": null,
   "id": "9fbf30a6",
   "metadata": {},
   "outputs": [],
   "source": []
  },
  {
   "cell_type": "code",
   "execution_count": null,
   "id": "a7ed2ff9",
   "metadata": {},
   "outputs": [],
   "source": []
  },
  {
   "cell_type": "code",
   "execution_count": null,
   "id": "fbad225e",
   "metadata": {},
   "outputs": [],
   "source": []
  },
  {
   "cell_type": "code",
   "execution_count": null,
   "id": "be5f9b15",
   "metadata": {},
   "outputs": [],
   "source": []
  }
 ],
 "metadata": {
  "kernelspec": {
   "display_name": "Python 3 (ipykernel)",
   "language": "python",
   "name": "python3"
  },
  "language_info": {
   "codemirror_mode": {
    "name": "ipython",
    "version": 3
   },
   "file_extension": ".py",
   "mimetype": "text/x-python",
   "name": "python",
   "nbconvert_exporter": "python",
   "pygments_lexer": "ipython3",
   "version": "3.10.12"
  }
 },
 "nbformat": 4,
 "nbformat_minor": 5
}
